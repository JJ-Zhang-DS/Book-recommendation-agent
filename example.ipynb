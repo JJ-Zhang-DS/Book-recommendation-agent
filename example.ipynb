{
 "cells": [
  {
   "cell_type": "code",
   "execution_count": 1,
   "id": "9458c345-5a08-4dc6-b608-074de837a49f",
   "metadata": {},
   "outputs": [],
   "source": [
    "import os\n",
    "import getpass\n",
    "\n",
    "from llama_index.llms.groq import Groq\n",
    "from llama_index.core.agent import ReActAgent\n",
    "from llama_index.core.tools import QueryEngineTool\n",
    "from llama_index.embeddings.huggingface import HuggingFaceEmbedding\n",
    "from llama_index.core import (\n",
    "    Settings,\n",
    "    VectorStoreIndex,\n",
    "    SimpleDirectoryReader,\n",
    "    StorageContext,\n",
    "    load_index_from_storage)\n",
    "\n",
    "from llama_index.core.tools.tool_spec.load_and_search.base import LoadAndSearchToolSpec\n",
    "from llama_index.tools.google import GoogleSearchToolSpec"
   ]
  },
  {
   "cell_type": "code",
   "execution_count": null,
   "id": "55fbe34c",
   "metadata": {},
   "outputs": [],
   "source": [
    "# 1. set up the embedding model: from hf\n",
    "# 2. set up the llm (free :))\n",
    "# 3. create and store the index\n",
    "# 4. create a query engine\n",
    "# 5. define a booksearch tool (we can add movie search tool, spotify album tool, etc)\n",
    "# 6. define a search tool\n",
    "# 7. Run query\n",
    "\n"
   ]
  },
  {
   "cell_type": "markdown",
   "id": "8ede74fa-dc7b-49bc-8511-c3f6ff7032b9",
   "metadata": {},
   "source": [
    "### refererence:\n",
    "\n",
    "Introduction to LlamaIndex with Python (2024) videos 1-3: https://www.youtube.com/watch?v=cCyYGYyCka4\n",
    "\n",
    "https://docs.llamaindex.ai/en/stable/use_cases/agents/\n",
    "\n",
    "tools:\n",
    "\n",
    "https://llamahub.ai/?tab=tools\n",
    "\n",
    "https://llamahub.ai/l/tools/llama-index-tools-google?from=tools"
   ]
  },
  {
   "cell_type": "markdown",
   "id": "446bef0b-564c-4b33-9f4b-18f89c033045",
   "metadata": {},
   "source": [
    "### 1. set up the embedding model: from hf"
   ]
  },
  {
   "cell_type": "code",
   "execution_count": 2,
   "id": "9161d590-aba4-4118-8797-ed98c423efc9",
   "metadata": {},
   "outputs": [],
   "source": [
    "Settings.embed_model = HuggingFaceEmbedding(model_name='BAAI/bge-small-en-v1.5')"
   ]
  },
  {
   "cell_type": "markdown",
   "id": "8015fd7e-5538-4845-b852-40ff3a6e1b2b",
   "metadata": {},
   "source": [
    "### 2. set up the llm (free :))"
   ]
  },
  {
   "cell_type": "code",
   "execution_count": 3,
   "id": "579f6596-a986-41b6-b9cc-25348ba0ec32",
   "metadata": {},
   "outputs": [
    {
     "name": "stdout",
     "output_type": "stream",
     "text": [
      "GROQ API KEY:  ········\n"
     ]
    }
   ],
   "source": [
    "os.environ['GROQ_API_KEY'] = getpass.getpass(\"GROQ API KEY: \")"
   ]
  },
  {
   "cell_type": "code",
   "execution_count": 4,
   "id": "3b813f9b-8841-419e-97bc-bce8503fccdf",
   "metadata": {},
   "outputs": [],
   "source": [
    "# configure the LLM for querying\n",
    "Settings.llm = Groq(model=\"llama3-70b-8192\")"
   ]
  },
  {
   "cell_type": "markdown",
   "id": "61f5c509-0dae-4d2b-9fc4-c4d77043cd89",
   "metadata": {},
   "source": [
    "### 3. create and store the index"
   ]
  },
  {
   "cell_type": "code",
   "execution_count": 5,
   "id": "0b2e1b75-adc5-4ec8-98e4-33f23f706a19",
   "metadata": {},
   "outputs": [],
   "source": [
    "# Define the directory for storing the index\n",
    "PERSIST_DIR = \"./storage\"\n",
    "\n",
    "# Load or create the index\n",
    "if not os.path.exists(PERSIST_DIR):\n",
    "    # Load the documents and create the index, all the documents are saved in the data folder\n",
    "    documents = SimpleDirectoryReader(\"data\").load_data()\n",
    "    index = VectorStoreIndex.from_documents(documents)\n",
    "    \n",
    "    # Store it for later\n",
    "    index.storage_context.persist(persist_dir=PERSIST_DIR)\n",
    "else:\n",
    "    # Load the existing index\n",
    "    storage_context = StorageContext.from_defaults(persist_dir=PERSIST_DIR)\n",
    "    index = load_index_from_storage(storage_context)"
   ]
  },
  {
   "cell_type": "markdown",
   "id": "e1f31a36-e5a9-4f09-8591-5939bdd21dcc",
   "metadata": {},
   "source": [
    "### 4. create a query engine"
   ]
  },
  {
   "cell_type": "code",
   "execution_count": 6,
   "id": "f978c534-43d2-4ca4-9cf7-1e712ccb4200",
   "metadata": {},
   "outputs": [],
   "source": [
    "query_engine = index.as_query_engine()"
   ]
  },
  {
   "cell_type": "markdown",
   "id": "d6325fb4-5921-4571-b6a2-47798843a8a7",
   "metadata": {},
   "source": [
    "### 5. define a booksearch tool (we can add movie search tool, spotify album tool, etc)"
   ]
  },
  {
   "cell_type": "code",
   "execution_count": 7,
   "id": "1e7b38dc-1c47-4d0b-896b-6a89aeaf1420",
   "metadata": {},
   "outputs": [],
   "source": [
    "booksearch_tool = QueryEngineTool.from_defaults(\n",
    "    query_engine=query_engine,\n",
    "    name=\"best_books\",\n",
    "    description=\"A RAG engine with some information of popular books.\"\n",
    ")"
   ]
  },
  {
   "cell_type": "markdown",
   "id": "8064a611-dd59-4e9e-86cf-f050ddfe791e",
   "metadata": {},
   "source": [
    "### 6. define a search tool"
   ]
  },
  {
   "cell_type": "code",
   "execution_count": 8,
   "id": "ad619a29-d310-4756-9f58-443a049576cf",
   "metadata": {},
   "outputs": [],
   "source": [
    "# # Import and initialize our tool spec\n",
    "from llama_index.core.tools.tool_spec.load_and_search.base import LoadAndSearchToolSpec\n",
    "from llama_index.tools.google import GoogleSearchToolSpec\n",
    "\n",
    "# reference: https://llamahub.ai/l/tools/llama-index-tools-google?from=tools\n",
    "google_spec = GoogleSearchToolSpec(key=\"your-key\", engine=\"your-engine-id\")\n",
    "\n",
    "tools = LoadAndSearchToolSpec.from_defaults(\n",
    "    google_spec.to_tool_list()[0]\n",
    ").to_tool_list()\n",
    "\n",
    "all_tools = tools + [booksearch_tool]\n",
    "\n",
    "# Initialize the ReAct Agent\n",
    "agent = ReActAgent.from_tools(all_tools, verbose=True)"
   ]
  },
  {
   "cell_type": "markdown",
   "id": "d47454f2-38e0-4f0e-bbb5-a9b62f074c2c",
   "metadata": {},
   "source": [
    "### 7. Run query"
   ]
  },
  {
   "cell_type": "markdown",
   "id": "f3f8dfad-a4a4-451e-b7c3-ec41839421ee",
   "metadata": {},
   "source": [
    "#### From the provided database"
   ]
  },
  {
   "cell_type": "code",
   "execution_count": 14,
   "id": "278c419f-056d-44c1-a715-897e12849137",
   "metadata": {},
   "outputs": [
    {
     "name": "stdout",
     "output_type": "stream",
     "text": [
      "> Running step 599a8c9d-ca2e-41f9-8b4d-c59aa7532231. Step input: What is the best book to recommend to a 7 year old girl, and why?\n",
      "\u001b[1;3;38;5;200mThought: The current language of the user is: English. I need to use a tool to help me answer the question.\n",
      "Action: best_books\n",
      "Action Input: {'input': 'What is the best book to recommend to a 7 year old girl?'}\n",
      "\u001b[1;3;34mObservation: Based on the provided data, I would recommend \"Cinderella Ate My Daughter: Dispatches from the Frontlines of the New Girlie-Girl Culture\" by Peggy Orenstein. Although the book's title might seem appealing to a 7-year-old girl, its content is more suitable for parents or adults who want to understand the modern girl culture. \n",
      "\n",
      "A more suitable recommendation for a 7-year-old girl would be \"Deceptively Delicious: Simple Secrets to Get Your Kids Eating Good Food\" by Jessica Seinfeld, which seems to be a children's book with a focus on healthy eating. However, please note that the book's content and reading level might not be suitable for a 7-year-old girl, and parental discretion is advised.\n",
      "\u001b[0m> Running step 542a7d4c-31e2-41d7-a4ea-df9d08de0d99. Step input: None\n",
      "\u001b[1;3;38;5;200mThought: The provided observation is not suitable for a 7-year-old girl. I need to use another tool to get a more suitable recommendation.\n",
      "Action: google_search\n",
      "Action Input: {'query': 'best books for 7 year old girls', 'num': 5}\n",
      "\u001b[0m\u001b[1;3;34mObservation: Error: GoogleSearchToolSpec.google_search() got an unexpected keyword argument 'num'\n",
      "\u001b[0m> Running step 98a0caba-9431-482f-bacd-9ed14221f65c. Step input: None\n",
      "\u001b[1;3;38;5;200mThought: I made a mistake by passing an unexpected keyword argument 'num' to the google_search tool. I'll try again without it.\n",
      "Action: google_search\n",
      "Action Input: {'query': 'best books for 7 year old girls'}\n",
      "\u001b[1;3;34mObservation: Content loaded! You can now search the information using read_google_search\n",
      "\u001b[0m> Running step 6e5c4141-8fc2-4015-b857-8f53abd6cba9. Step input: None\n",
      "\u001b[1;3;38;5;200mThought: I have the search results from Google, now I need to read the results to find a suitable book for a 7-year-old girl.\n",
      "Action: read_google_search\n",
      "Action Input: {'query': 'What are some popular book series for 7 year old girls?'}\n",
      "\u001b[1;3;34mObservation: Some popular book series for 7-year-old girls include Magic Treehouse, Captain Underpants, and Rainbow Magic. Additionally, gentle not-scary stories that are suitable for girls in the 4-7 year old age range are also recommended.\n",
      "\u001b[0m> Running step a088db0a-3f16-45ef-ae7e-43f7953a0a18. Step input: None\n",
      "\u001b[1;3;38;5;200mThought: I have found some popular book series for 7-year-old girls. I can answer the question without using any more tools.\n",
      "Answer: For a 7-year-old girl, I would recommend the Magic Treehouse, Captain Underpants, or Rainbow Magic book series. These series are popular among girls in this age range and are known for their engaging stories and relatable characters.\n",
      "\u001b[0m"
     ]
    }
   ],
   "source": [
    "response1 = agent.chat(\"What is the best book to recommend to a 7 year old girl, and why?\")"
   ]
  },
  {
   "cell_type": "markdown",
   "id": "edca6ce4-6524-4ccf-a52d-edfdb3c90cb4",
   "metadata": {},
   "source": [
    "#### from google search"
   ]
  },
  {
   "cell_type": "code",
   "execution_count": 16,
   "id": "2d8ed560-6359-47a9-8f6a-5d2693c32781",
   "metadata": {},
   "outputs": [
    {
     "name": "stdout",
     "output_type": "stream",
     "text": [
      "> Running step 4b8efa04-9942-4f0c-b4ba-a50467e70544. Step input: What're the best things to do in Orland, FL?\n",
      "\u001b[1;3;38;5;200mThought: The current language of the user is: English. I need to use a tool to help me answer the question.\n",
      "Action: google_search\n",
      "Action Input: {'query': 'best things to do in orlando fl'}\n",
      "\u001b[1;3;34mObservation: Content loaded! You can now search the information using read_google_search\n",
      "\u001b[0m> Running step 49785247-d417-475e-826b-7ab2f15ca6ee. Step input: None\n",
      "\u001b[1;3;38;5;200mThought: I have the search results from Google, now I need to read the relevant information to answer the user's question.\n",
      "Action: read_google_search\n",
      "Action Input: {'query': 'what are the top attractions in orlando florida'}\n",
      "\u001b[1;3;34mObservation: Based on the provided context, some top attractions in Orlando, Florida include water parks, thrill rides, and wildlife experiences. Additionally, there are indoor thrills, fun parks, activity centers, and more. Some specific attractions mentioned include Fun Spot America, which features go-kart tracks and roller coasters. There are also dinner theaters, entertainment options, and sightseeing tours available.\n",
      "\u001b[0m> Running step 723437d8-b9ca-4c6e-84ab-dc05cd18f70f. Step input: None\n",
      "\u001b[1;3;38;5;200mThought: I have the relevant information from the search results, now I can answer the user's question.\n",
      "Answer: Some top attractions in Orlando, Florida include water parks, thrill rides, and wildlife experiences. You can visit Fun Spot America for go-kart tracks and roller coasters, or enjoy dinner theaters, entertainment options, and sightseeing tours.\n",
      "\u001b[0m"
     ]
    }
   ],
   "source": [
    "response2 = agent.chat(\"What're the best things to do in Orland, FL?\")"
   ]
  }
 ],
 "metadata": {
  "kernelspec": {
   "display_name": "Python 3 (ipykernel)",
   "language": "python",
   "name": "python3"
  },
  "language_info": {
   "codemirror_mode": {
    "name": "ipython",
    "version": 3
   },
   "file_extension": ".py",
   "mimetype": "text/x-python",
   "name": "python",
   "nbconvert_exporter": "python",
   "pygments_lexer": "ipython3",
   "version": "3.9.7"
  }
 },
 "nbformat": 4,
 "nbformat_minor": 5
}
